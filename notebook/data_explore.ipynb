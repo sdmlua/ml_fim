{
 "cells": [
  {
   "cell_type": "code",
   "execution_count": 15,
   "id": "2969bc64",
   "metadata": {},
   "outputs": [
    {
     "name": "stdout",
     "output_type": "stream",
     "text": [
      "Index(['owp_hand_fim', 'flood_depth', 'aspect_sin', 'aspect_cos', 'curvature',\n",
      "       'dem', 'lulc', 'rem', 'slope', 'huc8', 'return_period'],\n",
      "      dtype='object')\n"
     ]
    }
   ],
   "source": [
    "import joblib\n",
    "\n",
    "# Path to your pickle file\n",
    "path = \"../..//data_processed/data1/12100202/50year_test.pkl\"\n",
    "\n",
    "# Load the DataFrame\n",
    "df = joblib.load(path)\n",
    "\n",
    "# Print column names\n",
    "print(df.columns)\n"
   ]
  },
  {
   "cell_type": "code",
   "execution_count": 17,
   "id": "4cb3976a",
   "metadata": {},
   "outputs": [
    {
     "name": "stdout",
     "output_type": "stream",
     "text": [
      "        flood_depth  owp_hand_fim\n",
      "count  1.170017e+08  1.170017e+08\n",
      "mean   1.594465e+00  6.482694e-01\n",
      "std    3.984773e+00  1.490273e+00\n",
      "min    0.000000e+00  0.000000e+00\n",
      "25%    0.000000e+00  0.000000e+00\n",
      "50%    2.722740e-04  0.000000e+00\n",
      "75%    1.278396e+00  6.568425e-01\n",
      "max    8.388232e+01  1.858280e+01\n",
      "           flood_depth  owp_hand_fim\n",
      "0             0.000000      0.000000\n",
      "3             0.861448      0.861448\n",
      "4            10.391775      0.000000\n",
      "5             0.657710      0.657710\n",
      "8             6.073664      6.073664\n",
      "...                ...           ...\n",
      "117001697     1.105579      0.789081\n",
      "117001699     6.337064     11.690067\n",
      "117001703     1.720360      1.348923\n",
      "117001707     3.411695      3.411695\n",
      "117001708     6.348111      6.348111\n",
      "\n",
      "[35370404 rows x 2 columns]\n"
     ]
    }
   ],
   "source": [
    "import joblib\n",
    "import pandas as pd\n",
    "\n",
    "# 🔹 Load a single test.pkl file\n",
    "path = \"../../data_processed/data1/train.pkl\"  # update path as needed\n",
    "df = joblib.load(path)\n",
    "\n",
    "# 🔹 Add metadata columns\n",
    "df[\"huc8\"] = \"12090301\"\n",
    "df[\"return_period\"] = \"10year\"\n",
    "\n",
    "# 🔹 Filter for specific group\n",
    "group = df[(df.huc8 == \"12090301\") & (df.return_period == \"10year\")]\n",
    "\n",
    "# 🔹 Print summary stats\n",
    "print(group[[\"flood_depth\", \"owp_hand_fim\"]].describe())\n",
    "\n",
    "# 🔹 Print unique value combinations\n",
    "print(group[[\"flood_depth\", \"owp_hand_fim\"]].drop_duplicates())\n"
   ]
  }
 ],
 "metadata": {
  "language_info": {
   "name": "python"
  }
 },
 "nbformat": 4,
 "nbformat_minor": 5
}
